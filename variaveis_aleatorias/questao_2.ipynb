{
 "cells": [
  {
   "cell_type": "markdown",
   "metadata": {},
   "source": [
    "Um homem possui 4 chaves em seu bolso. Como está escuro, ele não consegue ver qual a chave correta para abrir a porta de sua casa. Ele testa cada uma das chaves até encontrar a correta.\n",
    "\n",
    "1. Defina um espaço amostral para esse experimento.\n",
    "2. Defina a variável aleatória \\( X \\), onde \\( X \\) representa o número de chaves experimentadas até conseguir abrir a porta (inclusive a chave correta). Quais são os valores possíveis de \\( X \\)?\n"
   ]
  },
  {
   "cell_type": "code",
   "execution_count": null,
   "metadata": {},
   "outputs": [],
   "source": [
    "import random\n",
    "\n",
    "# Definindo o espaço amostral e os possíveis valores de X\n",
    "\n",
    "# Chaves numeradas de 1 a 4\n",
    "chaves = [1, 2, 3, 4]\n",
    "\n",
    "# Espaço amostral: a posição em que a chave correta aparece entre 1 e 4\n",
    "espaco_amostral = {1: \"A chave correta é a primeira testada\",\n",
    "                   2: \"A chave correta é a segunda testada\",\n",
    "                   3: \"A chave correta é a terceira testada\",\n",
    "                   4: \"A chave correta é a quarta testada\"}\n",
    "\n",
    "# Definindo a variável aleatória X: o número de chaves testadas até encontrar a correta\n",
    "valores_X = list(espaco_amostral.keys())\n",
    "\n",
    "# Resultado\n",
    "{\n",
    "    \"Espaço Amostral\": espaco_amostral,\n",
    "    \"Valores de X\": valores_X\n",
    "}\n",
    "\n",
    "\n"
   ]
  }
 ],
 "metadata": {
  "language_info": {
   "name": "python"
  }
 },
 "nbformat": 4,
 "nbformat_minor": 2
}
