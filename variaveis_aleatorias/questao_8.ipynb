{
 "cells": [
  {
   "cell_type": "markdown",
   "metadata": {},
   "source": [
    "Seja uma variável aleatória \\( Y \\) com a função de probabilidade dada na tabela a seguir:\n",
    "\n",
    "| \\( Y \\)      | 0   | 1   | 2   | 3   | 4   | 5   | \\( \\sum \\) |\n",
    "|--------------|-----|-----|-----|-----|-----|-----|------------|\n",
    "| \\( P(Y = y) \\) | 0   | \\( p^2 \\) | \\( p^2 \\) | \\( p \\) | \\( p \\) | \\( p^2 \\) | 1          |\n",
    "\n",
    "1. Encontre o valor de \\( p \\).\n",
    "2. Encontre a esperança \\( E(Y) \\) e a variância \\( \\text{Var}(Y) \\) da variável aleatória \\( Y \\).\n"
   ]
  },
  {
   "cell_type": "code",
   "execution_count": null,
   "metadata": {},
   "outputs": [],
   "source": [
    "from sympy import symbols, Eq, solve\n",
    "\n",
    "# Definindo a variável p como símbolo\n",
    "p = symbols('p')\n",
    "\n",
    "# 1. Equação para encontrar o valor de p\n",
    "# Soma das probabilidades de Y\n",
    "equacao = Eq(0 + p**2 + p**2 + p + p + p**2, 1)\n",
    "\n",
    "# Resolvendo a equação para p\n",
    "valor_p = solve(equacao, p)\n",
    "\n",
    "# Selecionando apenas o valor positivo de p, pois p é uma probabilidade\n",
    "valor_p = [sol for sol in valor_p if sol > 0][0]\n",
    "\n",
    "# 2. Calculando a esperança E[Y]\n",
    "valores_y = [0, 1, 2, 3, 4, 5]\n",
    "probabilidades_y = [0, valor_p**2, valor_p**2, valor_p, valor_p, valor_p**2]\n",
    "esperanca_Y = sum(y * prob for y, prob in zip(valores_y, probabilidades_y))\n",
    "\n",
    "# 3. Calculando a variância Var(Y)\n",
    "esperanca_Y2 = sum(y**2 * prob for y, prob in zip(valores_y, probabilidades_y))\n",
    "variancia_Y = esperanca_Y2 - esperanca_Y**2\n",
    "\n",
    "# Resultado\n",
    "{\n",
    "    \"Valor de p\": valor_p,\n",
    "    \"Esperança E[Y]\": esperanca_Y,\n",
    "    \"Variância Var(Y)\": variancia_Y\n",
    "}"
   ]
  }
 ],
 "metadata": {
  "language_info": {
   "name": "python"
  }
 },
 "nbformat": 4,
 "nbformat_minor": 2
}
