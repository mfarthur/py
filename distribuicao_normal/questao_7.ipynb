{
 "cells": [
  {
   "cell_type": "markdown",
   "metadata": {},
   "source": [
    "Seja X uma variável com distribuição Normal de média 500 e desvio padrão 100. Calcule:\n",
    "1.   P(450 ≤ X ≤ 650);\n",
    "2.   O valor x, tal que P(X ≤ x) = 0, 05;\n",
    "3.   O n ́umero a tal que P(500 − a ≤ X ≤ 500 + a) = 0, 95;"
   ]
  },
  {
   "cell_type": "code",
   "execution_count": null,
   "metadata": {},
   "outputs": [],
   "source": [
    "from scipy.stats import norm\n",
    "\n",
    "# Definindo a média (u) e o desvio padrão (sigma) da distribuição normal\n",
    "media = 500\n",
    "desvio_padrao = 100\n",
    "\n",
    "# 1. Calcular a probabilidade de X estar entre 450 e 650\n",
    "probabilidade_intervalo = norm.cdf(650, media, desvio_padrao) - norm.cdf(450, media, desvio_padrao)\n",
    "\n",
    "# 2. Calcular o valor x tal que a probabilidade acumulada P(X ≤ x) seja 0,05\n",
    "valor_5_percent = norm.ppf(0.05, media, desvio_padrao)\n",
    "\n",
    "# 3. Calcular o valor a tal que P(500 - a ≤ X ≤ 500 + a) seja 0,95\n",
    "# Queremos encontrar o valor de 'a' tal que o intervalo P(500 - a ≤ X ≤ 500 + a) tenha 95% de probabilidade\n",
    "intervalo_95 = norm.ppf(0.975, media, desvio_padrao) - media  # Usamos 0.975 para calcular o limite superior do intervalo central\n",
    "\n",
    "# Exibindo os resultados\n",
    "print(f\"A probabilidade de X estar entre 450 e 650 é: {probabilidade_intervalo * 100:.2f}%\")\n",
    "print(f\"O valor de x tal que P(X ≤ x) = 0,05 é: {valor_5_percent:.2f}\")\n",
    "print(f\"O valor de a tal que P(500 - a ≤ X ≤ 500 + a) = 0,95 é: {intervalo_95:.2f}\")\n"
   ]
  }
 ],
 "metadata": {
  "language_info": {
   "name": "python"
  }
 },
 "nbformat": 4,
 "nbformat_minor": 2
}
