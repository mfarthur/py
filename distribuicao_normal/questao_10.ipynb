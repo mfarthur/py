{
 "cells": [
  {
   "cell_type": "markdown",
   "metadata": {},
   "source": [
    "A distribuição dos pesos de coelhos criados numa granja pode muito bem ser representada por uma distribuição Normal, com média 5 kg e desvio padrão 0,9 kg. Um abatedouro comprará 5000 coelhos e pretende classificá-los de acordo com o peso do seguinte modo: 15% dos mais leves como *pequenos*, os 50% seguintes como *médios*, os 20% seguintes como *grandes* e os 15% mais pesados como *extras*. Quais os limites de peso para cada classificação?"
   ]
  },
  {
   "cell_type": "code",
   "execution_count": null,
   "metadata": {},
   "outputs": [],
   "source": [
    "import scipy.stats as st\n",
    "\n",
    "# Definindo a média e o desvio padrão dos pesos dos coelhos\n",
    "peso_medio = 5\n",
    "desvio_padrao_peso = 0.9\n",
    "\n",
    "# Classificação dos coelhos conforme peso:\n",
    "# 15% pequenos\n",
    "# 50% médios\n",
    "# 20% grandes\n",
    "# 15% extras\n",
    "\n",
    "# Limite de peso para coelhos pequenos (abaixo de 15% da distribuição)\n",
    "peso_limite_pequenos = st.norm.ppf(0.15, loc=peso_medio, scale=desvio_padrao_peso)\n",
    "\n",
    "# Limite inferior e superior para coelhos médios (entre 15% e 65% da distribuição)\n",
    "peso_limite_medio_inferior = st.norm.ppf(0.15, loc=peso_medio, scale=desvio_padrao_peso)\n",
    "peso_limite_medio_superior = st.norm.ppf(0.65, loc=peso_medio, scale=desvio_padrao_peso)\n",
    "\n",
    "# Limite inferior e superior para coelhos grandes (entre 65% e 85% da distribuição)\n",
    "peso_limite_grande_inferior = st.norm.ppf(0.65, loc=peso_medio, scale=desvio_padrao_peso)\n",
    "peso_limite_grande_superior = st.norm.ppf(0.85, loc=peso_medio, scale=desvio_padrao_peso)\n",
    "\n",
    "# Limite de peso para coelhos extras (acima de 85% da distribuição)\n",
    "peso_limite_extras = st.norm.ppf(0.85, loc=peso_medio, scale=desvio_padrao_peso)\n",
    "\n",
    "# Exibindo os limites de peso para cada categoria de coelho\n",
    "print(f\"Limite de peso para coelhos pequenos: {peso_limite_pequenos:.2f} kg\")\n",
    "print(f\"Limite de peso inferior para coelhos médios: {peso_limite_medio_inferior:.2f} kg\")\n",
    "print(f\"Limite de peso superior para coelhos médios: {peso_limite_medio_superior:.2f} kg\")\n",
    "print(f\"Limite de peso inferior para coelhos grandes: {peso_limite_grande_inferior:.2f} kg\")\n",
    "print(f\"Limite de peso superior para coelhos grandes: {peso_limite_grande_superior:.2f} kg\")\n",
    "print(f\"Limite de peso para coelhos extras: {peso_limite_extras:.2f} kg\")\n"
   ]
  }
 ],
 "metadata": {
  "language_info": {
   "name": "python"
  }
 },
 "nbformat": 4,
 "nbformat_minor": 2
}
