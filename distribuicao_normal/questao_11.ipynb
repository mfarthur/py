{
 "cells": [
  {
   "cell_type": "markdown",
   "metadata": {},
   "source": [
    "Uma enchedora automática de refrigerantes está regulada para que o volume médio\n",
    "de líquido em cada garrafa seja de 1000 cm3 e desvio padrão de 10 m3. Admita que o volume siga uma distribuição normal.\n",
    "\n",
    "\n",
    "1.   Qual é a porcentagem de garrafas em que o volume de líquido é menor que 990 cm3 ?\n",
    "2.   Qual é a porcentagem de garrafas em que o volume de líquido não se desvia da média em mais do que dois desvios padrões\n"
   ]
  },
  {
   "cell_type": "code",
   "execution_count": null,
   "metadata": {},
   "outputs": [],
   "source": [
    "from scipy.stats import norm\n",
    "\n",
    "# Dados do problema\n",
    "media_volume = 1000\n",
    "desvio_padrao_volume = 10\n",
    "\n",
    "# Porcentagem de garrafas com volume menor que 990 cm³\n",
    "z_volumen_menor_990 = (990 - media_volume) / desvio_padrao_volume\n",
    "probabilidade_menor_990 = norm.cdf(z_volumen_menor_990)\n",
    "porcentagem_menor_990 = probabilidade_menor_990 * 100\n",
    "\n",
    "print(f\"A probabilidade de uma garrafa ter volume menor que 990 cm³ é de: {porcentagem_menor_990:.2f}%\")\n",
    "\n",
    "# Porcentagem de garrafas com volume dentro de dois desvios padrões da média\n",
    "limite_inferior_volume = media_volume - 2 * desvio_padrao_volume\n",
    "limite_superior_volume = media_volume + 2 * desvio_padrao_volume\n",
    "\n",
    "z_inferior_volume = (limite_inferior_volume - media_volume) / desvio_padrao_volume\n",
    "z_superior_volume = (limite_superior_volume - media_volume) / desvio_padrao_volume\n",
    "\n",
    "probabilidade_intervalo = norm.cdf(z_superior_volume) - norm.cdf(z_inferior_volume)\n",
    "porcentagem_intervalo = probabilidade_intervalo * 100\n",
    "\n",
    "print(f\"A porcentagem de garrafas com volume entre {limite_inferior_volume} e {limite_superior_volume} cm³ é de: {porcentagem_intervalo:.2f}%\")\n"
   ]
  }
 ],
 "metadata": {
  "language_info": {
   "name": "python"
  }
 },
 "nbformat": 4,
 "nbformat_minor": 2
}
