{
 "cells": [
  {
   "cell_type": "markdown",
   "metadata": {},
   "source": [
    "Seja Z uma v.a. com distribuição normal padrão. Encontre:\n",
    "1.   P(0 ≤ Z ≤ 1, 42)\n",
    "2.   P(−0, 73 ≤ Z ≤ 0)\n",
    "3.   P(−1, 37 ≤ Z ≤ 2, 01)\n",
    "4.   P(0, 65 ≤ Z ≤ 1, 26)\n",
    "5.  P(−1, 79 ≤ Z ≤ −0, 54)\n",
    "6.   P(Z ≥ 1, 13)\n",
    "7.   P(|Z| ≤ 0, 5)\n"
   ]
  },
  {
   "cell_type": "code",
   "execution_count": null,
   "metadata": {},
   "outputs": [],
   "source": [
    "from scipy.stats import norm\n",
    "\n",
    "# Calculando as probabilidades de diferentes intervalos para a variável Z\n",
    "\n",
    "# Probabilidade de Z estar entre 0 e 1.42\n",
    "probabilidade_0_a_1_42 = norm.cdf(1.42) - norm.cdf(0)\n",
    "\n",
    "# Probabilidade de Z estar entre -0.73 e 0\n",
    "probabilidade_menos_0_73_a_0 = norm.cdf(0) - norm.cdf(-0.73)\n",
    "\n",
    "# Probabilidade de Z estar entre -1.37 e 2.01\n",
    "probabilidade_menos_1_37_a_2_01 = norm.cdf(2.01) - norm.cdf(-1.37)\n",
    "\n",
    "# Probabilidade de Z estar entre 0.65 e 1.26\n",
    "probabilidade_0_65_a_1_26 = norm.cdf(1.26) - norm.cdf(0.65)\n",
    "\n",
    "# Probabilidade de Z estar entre -1.79 e -0.54\n",
    "probabilidade_menos_1_79_a_menos_0_54 = norm.cdf(-0.54) - norm.cdf(-1.79)\n",
    "\n",
    "# Probabilidade de Z ser maior ou igual a 1.13\n",
    "probabilidade_maior_ou_igual_1_13 = 1 - norm.cdf(1.13)\n",
    "\n",
    "# Probabilidade de Z estar entre -0.5 e 0.5 (equivalente a |Z| ≤ 0.5)\n",
    "probabilidade_absoluto_menor_ou_igual_0_5 = norm.cdf(0.5) - norm.cdf(-0.5)\n",
    "\n",
    "print(f\"A probabilidade de Z estar entre 0 e 1.42 é: {probabilidade_0_a_1_42:.2f}\")\n",
    "print(f\"A probabilidade de Z estar entre -0.73 e 0 é: {probabilidade_menos_0_73_a_0:.2f}\")\n",
    "print(f\"A probabilidade de Z estar entre -1.37 e 2.01 é: {probabilidade_menos_1_37_a_2_01:.2f}\")\n",
    "print(f\"A probabilidade de Z estar entre 0.65 e 1.26 é: {probabilidade_0_65_a_1_26:.2f}\")\n",
    "print(f\"A probabilidade de Z estar entre -1.79 e -0.54 é: {probabilidade_menos_1_79_a_menos_0_54:.2f}\")\n",
    "print(f\"A probabilidade de Z ser maior ou igual a 1.13 é: {probabilidade_maior_ou_igual_1_13:.2f}\")\n",
    "print(f\"A probabilidade de |Z| ser menor ou igual a 0.5 é: {probabilidade_absoluto_menor_ou_igual_0_5:.2f}\")\n"
   ]
  }
 ],
 "metadata": {
  "language_info": {
   "name": "python"
  }
 },
 "nbformat": 4,
 "nbformat_minor": 2
}
