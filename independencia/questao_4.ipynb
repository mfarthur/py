{
 "cells": [
  {
   "cell_type": "markdown",
   "metadata": {},
   "source": [
    "Lançam-se três moedas honestas. Sejam os eventos:\n",
    "- \\( A = \\{\\text{três caras ou três coroas}\\} \\)\n",
    "- \\( B = \\{\\text{ao menos duas caras}\\} \\)\n",
    "- \\( C = \\{\\text{no máximo duas caras}\\} \\)\n",
    "\n",
    "Dos pares de eventos \\((A, B)\\), \\((A, C)\\) e \\((B, C)\\), quais são independentes e quais são dependentes?"
   ]
  },
  {
   "cell_type": "code",
   "execution_count": null,
   "metadata": {},
   "outputs": [],
   "source": [
    "from itertools import product\n",
    "\n",
    "# 1. Definindo o espaço amostral\n",
    "# Cada lançamento pode resultar em 'C' (cara) ou 'R' (coroa)\n",
    "espaco_amostral = list(product(['C', 'R'], repeat=3))\n",
    "\n",
    "# 2. Definindo os eventos\n",
    "# A: três caras ou três coroas\n",
    "evento_A = [outcome for outcome in espaco_amostral if outcome.count('C') == 3 or outcome.count('R') == 3]\n",
    "\n",
    "# B: ao menos duas caras\n",
    "evento_B = [outcome for outcome in espaco_amostral if outcome.count('C') >= 2]\n",
    "\n",
    "# C: no máximo duas caras\n",
    "evento_C = [outcome for outcome in espaco_amostral if outcome.count('C') <= 2]\n",
    "\n",
    "# 3. Calculando as probabilidades\n",
    "P_A = len(evento_A) / len(espaco_amostral)\n",
    "P_B = len(evento_B) / len(espaco_amostral)\n",
    "P_C = len(evento_C) / len(espaco_amostral)\n",
    "\n",
    "# Interseções\n",
    "P_A_and_B = len(set(evento_A) & set(evento_B)) / len(espaco_amostral)\n",
    "P_A_and_C = len(set(evento_A) & set(evento_C)) / len(espaco_amostral)\n",
    "P_B_and_C = len(set(evento_B) & set(evento_C)) / len(espaco_amostral)\n",
    "\n",
    "# 4. Verificando a independência\n",
    "indep_A_B = P_A_and_B == P_A * P_B\n",
    "indep_A_C = P_A_and_C == P_A * P_C\n",
    "indep_B_C = P_B_and_C == P_B * P_C\n",
    "\n",
    "# Resultado\n",
    "{\n",
    "    \"P(A)\": P_A,\n",
    "    \"P(B)\": P_B,\n",
    "    \"P(C)\": P_C,\n",
    "    \"P(A ∩ B)\": P_A_and_B,\n",
    "    \"P(A ∩ C)\": P_A_and_C,\n",
    "    \"P(B ∩ C)\": P_B_and_C,\n",
    "    \"Independência (A, B)\": indep_A_B,\n",
    "    \"Independência (A, C)\": indep_A_C,\n",
    "    \"Independência (B, C)\": indep_B_C\n",
    "}"
   ]
  }
 ],
 "metadata": {
  "language_info": {
   "name": "python"
  }
 },
 "nbformat": 4,
 "nbformat_minor": 2
}
