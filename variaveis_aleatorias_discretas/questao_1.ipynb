{
 "cells": [
  {
   "cell_type": "markdown",
   "metadata": {},
   "source": [
    "Uma loja de equipamentos de hardware vende, em média, 2,7 impressoras por dia. Certo dia, ao encerrar o expediente, verifica que há 4 impressoras em estoque e sabe-se que a nova remessa só chegará depois de 2 dias. Qual é a probabilidade de que, no fim desses 2 dias, a loja não tenha deixado de atender os clientes, ou seja, a probabilidade de que o estoque de impressoras não acabe antes da chegada da nova remessa?\n",
    "\n",
    "Admite-se que a demanda por impressoras segue uma distribuição de Poisson."
   ]
  },
  {
   "cell_type": "code",
   "execution_count": null,
   "metadata": {},
   "outputs": [],
   "source": [
    "import numpy as np\n",
    "from scipy.stats import poisson\n",
    "\n",
    "# Definições iniciais\n",
    "media_diaria = 2.7   # Média diária de vendas\n",
    "dias = 2             # Período de tempo (em dias)\n",
    "estoque = 4          # Quantidade de impressoras no estoque\n",
    "\n",
    "# Cálculo da média de vendas para o período de dois dias\n",
    "media_total = np.multiply(media_diaria, dias)\n",
    "\n",
    "# Calculando a probabilidade usando a função de distribuição acumulada de Poisson\n",
    "probabilidade_estoque = poisson.cdf(estoque, media_total)\n",
    "\n",
    "# Exibindo o resultado com texto diferente\n",
    "print(f\"A probabilidade de não faltar impressoras no estoque após {dias} dias é de {probabilidade_estoque:.4f}.\")\n"
   ]
  }
 ],
 "metadata": {
  "language_info": {
   "name": "python"
  }
 },
 "nbformat": 4,
 "nbformat_minor": 2
}
