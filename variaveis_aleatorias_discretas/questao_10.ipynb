{
 "cells": [
  {
   "cell_type": "code",
   "execution_count": null,
   "metadata": {},
   "outputs": [],
   "source": []
  },
  {
   "cell_type": "markdown",
   "metadata": {},
   "source": [
    "Um agricultor cultiva laranjas e também produz mudas para vender. Após alguns meses a muda pode ser atacada por fungos com probabilidade *0,02* e, nesse caso, ela tem probabilidade *0,5* de ser recuperável. O custo de cada muda produzida é *R 1,20*, que será acrescido de mais *R 0,50* se precisar ser recuperada. As irrecuperáveis são descartadas. Sabendo que cada muda é vendida a *R$3,50*, encontre a distribuição da variável aleatória lucro por muda produzida.\n",
    "*   Qual é o lucro médio por muda produzida?\n",
    "*   Em uma plantação de 10000 mudas, qual é o lucro esperado?\n",
    "*   Em um lote de 50 mudas, qual é a probabilidade de que *pelo menos 45* sejam\n",
    "aproveitáveis?\n"
   ]
  }
 ],
 "metadata": {
  "language_info": {
   "name": "python"
  }
 },
 "nbformat": 4,
 "nbformat_minor": 2
}
