{
 "cells": [
  {
   "cell_type": "markdown",
   "metadata": {},
   "source": [
    "Um agricultor cultiva laranjas e também produz mudas para vender. Após alguns meses a muda pode ser atacada por fungos com probabilidade *0,02* e, nesse caso, ela tem probabilidade *0,5* de ser recuperável. O custo de cada muda produzida é *R 1,20*, que será acrescido de mais *R 0,50* se precisar ser recuperada. As irrecuperáveis são descartadas. Sabendo que cada muda é vendida a *R$3,50*, encontre a distribuição da variável aleatória lucro por muda produzida.\n",
    "*   Qual é o lucro médio por muda produzida?\n",
    "*   Em uma plantação de 10000 mudas, qual é o lucro esperado?\n",
    "*   Em um lote de 50 mudas, qual é a probabilidade de que *pelo menos 45* sejam\n",
    "aproveitáveis?\n"
   ]
  },
  {
   "cell_type": "code",
   "execution_count": null,
   "metadata": {},
   "outputs": [],
   "source": [
    "from scipy.stats import binom\n",
    "\n",
    "# 1. Definindo os parâmetros do problema\n",
    "custo_base = 1.20  # Custo base de cada muda\n",
    "preco_venda = 3.50  # Preço de venda por muda\n",
    "custo_recuperacao = 0.50  # Custo para recuperar mudas com fungo\n",
    "probabilidade_fungo = 0.02  # Probabilidade de uma muda ter fungo\n",
    "probabilidade_recuperacao = 0.5  # Probabilidade de recuperação de muda com fungo\n",
    "\n",
    "# 2. Cálculo do lucro por cenário\n",
    "lucro_sem_fungo = preco_venda - custo_base  # Lucro quando a muda não tem fungo\n",
    "lucro_recuperavel = preco_venda - (custo_base + custo_recuperacao)  # Lucro quando a muda tem fungo, mas é recuperável\n",
    "lucro_irrecuperavel = -custo_base  # Lucro quando a muda tem fungo e não é recuperável\n",
    "\n",
    "# 3. Cálculo das probabilidades de cada cenário\n",
    "probabilidade_sem_fungo = 1 - probabilidade_fungo  # Probabilidade de uma muda não ter fungo\n",
    "probabilidade_fungo_recuperavel = probabilidade_fungo * probabilidade_recuperacao  # Probabilidade de fungo e recuperação\n",
    "probabilidade_fungo_irrecuperavel = probabilidade_fungo * (1 - probabilidade_recuperacao)  # Probabilidade de fungo e não recuperação\n",
    "\n",
    "# 4. Cálculo do lucro médio por muda\n",
    "lucro_medio_muda = (\n",
    "    lucro_sem_fungo * probabilidade_sem_fungo +\n",
    "    lucro_recuperavel * probabilidade_fungo_recuperavel +\n",
    "    lucro_irrecuperavel * probabilidade_fungo_irrecuperavel\n",
    ")\n",
    "\n",
    "# 5. Cálculo do lucro esperado para 10.000 mudas\n",
    "lucro_total_plantacao = lucro_medio_muda * 10000  # Lucro total para 10.000 mudas\n",
    "\n",
    "# 6. Cálculo da probabilidade de pelo menos 45 mudas aproveitáveis em um lote de 50\n",
    "n_mudas_lote = 50  # Número de mudas por lote\n",
    "probabilidade_aproveitavel = probabilidade_sem_fungo + probabilidade_fungo_recuperavel  # Probabilidade de uma muda ser aproveitável\n",
    "probabilidade_45_aproveitaveis = 1 - binom.cdf(44, n_mudas_lote, probabilidade_aproveitavel)  # Probabilidade de pelo menos 45 mudas aproveitáveis\n",
    "\n",
    "# Resultados\n",
    "print(f\"Lucro médio por muda produzida: R${lucro_medio_muda:.2f}\")\n",
    "print(f\"Lucro esperado para 10.000 mudas: R${lucro_total_plantacao:.2f}\")\n",
    "print(f\"Probabilidade de pelo menos 45 mudas aproveitáveis em um lote de 50: {probabilidade_45_aproveitaveis:.4f}\")\n"
   ]
  }
 ],
 "metadata": {
  "language_info": {
   "name": "python"
  }
 },
 "nbformat": 4,
 "nbformat_minor": 2
}
