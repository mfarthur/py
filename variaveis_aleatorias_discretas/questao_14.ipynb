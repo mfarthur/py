{
 "cells": [
  {
   "cell_type": "markdown",
   "metadata": {},
   "source": [
    "Numa linha adutora de água, de 60km de extensão, ocorrem 30 vazamentos no período de um mês. Qual a probabilidade de ocorrer, durante um mês, pelo menos 3 vazamentos num certo setor de 3km de extensão?"
   ]
  },
  {
   "cell_type": "code",
   "execution_count": null,
   "metadata": {},
   "outputs": [],
   "source": [
    "from scipy.stats import poisson\n",
    "\n",
    "# Taxa média de falhas por quilômetro\n",
    "taxa_falhas_por_km = 30 / 60  # 0.5 falhas por km\n",
    "\n",
    "# Taxa média de falhas em um setor de 3 km\n",
    "taxa_falhas_setor = taxa_falhas_por_km * 3  # 1.5 falhas em um setor de 3 km\n",
    "\n",
    "# Probabilidade de ocorrer pelo menos 3 falhas no setor\n",
    "probabilidade_falhas = 1 - (poisson.pmf(0, taxa_falhas_setor) + poisson.pmf(1, taxa_falhas_setor) + poisson.pmf(2, taxa_falhas_setor))\n",
    "\n",
    "# Exibindo o resultado da probabilidade\n",
    "print(f\"A chance de ocorrer pelo menos 3 falhas em um setor de 3 km é: {probabilidade_falhas:.4f}\")\n"
   ]
  }
 ],
 "metadata": {
  "language_info": {
   "name": "python"
  }
 },
 "nbformat": 4,
 "nbformat_minor": 2
}
