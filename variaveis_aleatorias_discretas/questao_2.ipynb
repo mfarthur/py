{
 "cells": [
  {
   "cell_type": "markdown",
   "metadata": {},
   "source": [
    "Suponha que o processo de chegada de mensagens à caixa de e-mail de uma pessoa segue uma lei de probabilidade de Poisson a uma taxa média de 30 mensagens por semana. Para não gastar um tempo excessivo na leitura de emails, ela estabeleceu para si mesma a regra de consultar a sua caixa apenas uma vez por dia e só ler o seu conteúdo se houver no máximo 3 mensagens à sua espera. Se essa regra for seguida durante 5 dias, escreva a função de probabilidade."
   ]
  },
  {
   "cell_type": "code",
   "execution_count": 1,
   "metadata": {},
   "outputs": [
    {
     "name": "stdout",
     "output_type": "stream",
     "text": [
      "A probabilidade de ter exatamente 0 dias com até 3 mensagens em 5 dias é: 0.0918\n",
      "A probabilidade de ter exatamente 1 dias com até 3 mensagens em 5 dias é: 0.2810\n",
      "A probabilidade de ter exatamente 2 dias com até 3 mensagens em 5 dias é: 0.3441\n",
      "A probabilidade de ter exatamente 3 dias com até 3 mensagens em 5 dias é: 0.2107\n",
      "A probabilidade de ter exatamente 4 dias com até 3 mensagens em 5 dias é: 0.0645\n",
      "A probabilidade de ter exatamente 5 dias com até 3 mensagens em 5 dias é: 0.0079\n"
     ]
    }
   ],
   "source": [
    "import math\n",
    "from math import comb\n",
    "\n",
    "def poisson_probability(k, lambd):\n",
    "    \"\"\"\n",
    "    Calcula a probabilidade de Poisson.\n",
    "\n",
    "    Args:\n",
    "        k: Número de eventos.\n",
    "        lambd: Taxa média de eventos.\n",
    "\n",
    "    Returns:\n",
    "        A probabilidade de ocorrer k eventos em um determinado período de tempo.\n",
    "    \"\"\"\n",
    "    return (lambd**k * math.exp(-lambd)) / math.factorial(k)\n",
    "\n",
    "def probability_function(k):\n",
    "    \"\"\"\n",
    "    Função de probabilidade para o número de mensagens em 5 dias.\n",
    "    \"\"\"\n",
    "    # Média de mensagens por dia (30 mensagens por semana / 7 dias)\n",
    "    avg_msgs_per_day = 30 / 7\n",
    "\n",
    "    # Probabilidade de haver no máximo 3 mensagens em um dia\n",
    "    prob_leq_3_msgs_day = sum(poisson_probability(i, avg_msgs_per_day) for i in range(4))\n",
    "\n",
    "    # Probabilidade de k dias com no máximo 3 mensagens (distribuição binomial)\n",
    "    prob = comb(5, k) * (prob_leq_3_msgs_day)**k * (1 - prob_leq_3_msgs_day)**(5 - k)\n",
    "\n",
    "    return prob\n",
    "\n",
    "\n",
    "# Exemplo de uso com texto do print modificado\n",
    "for k in range(6):\n",
    "    print(f\"A probabilidade de ter exatamente {k} dias com até 3 mensagens em 5 dias é: {probability_function(k):.4f}\")\n"
   ]
  }
 ],
 "metadata": {
  "kernelspec": {
   "display_name": "Python 3",
   "language": "python",
   "name": "python3"
  },
  "language_info": {
   "codemirror_mode": {
    "name": "ipython",
    "version": 3
   },
   "file_extension": ".py",
   "mimetype": "text/x-python",
   "name": "python",
   "nbconvert_exporter": "python",
   "pygments_lexer": "ipython3",
   "version": "3.12.3"
  }
 },
 "nbformat": 4,
 "nbformat_minor": 2
}
