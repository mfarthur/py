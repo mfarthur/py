{
 "cells": [
  {
   "cell_type": "markdown",
   "metadata": {},
   "source": [
    "Suponha que 2% dos itens produzidos por uma fábrica sejam defeituosas. Encontre a probabilidade *p* de existirem 3 defeituosos em uma amostra de 100."
   ]
  },
  {
   "cell_type": "code",
   "execution_count": null,
   "metadata": {},
   "outputs": [],
   "source": [
    "from scipy.stats import binom\n",
    "\n",
    "# Probabilidade de um item ser defeituoso\n",
    "p_defeito = 0.02\n",
    "# Tamanho da amostra\n",
    "n = 100\n",
    "# Número de itens defeituosos desejados\n",
    "k = 3\n",
    "\n",
    "# Calculando a probabilidade usando a distribuição binomial\n",
    "probabilidade = binom.pmf(k, n, p_defeito)\n",
    "\n",
    "print(f\"A probabilidade de ocorrer exatamente 3 itens defeituosos em uma amostra de 100 é: {probabilidade}\")\n"
   ]
  }
 ],
 "metadata": {
  "language_info": {
   "name": "python"
  }
 },
 "nbformat": 4,
 "nbformat_minor": 2
}
