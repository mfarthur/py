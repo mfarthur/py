{
 "cells": [
  {
   "cell_type": "markdown",
   "metadata": {},
   "source": [
    "O número de mortes por afogamento em fins de semana, numa cidade praiana, é de 2 para cada 50.000 habitantes. Qual a probabilidade de em:\n",
    "1.   200.000 habitantes ocorram 5 afogamentos?\n",
    "2.   112.500 habitantes ocorram pelo menos 3 afogamentos?"
   ]
  },
  {
   "cell_type": "code",
   "execution_count": null,
   "metadata": {},
   "outputs": [],
   "source": [
    "from scipy.stats import poisson\n",
    "\n",
    "# Mortes por afogamento em diferentes populações\n",
    "\n",
    "# Taxa de mortes por afogamento em uma população de 50.000 pessoas\n",
    "taxa_afogamentos_base = 2\n",
    "\n",
    "# a) 200.000 habitantes\n",
    "# Ajuste da taxa para uma população de 200.000 habitantes\n",
    "taxa_afogamentos_200k = taxa_afogamentos_base * (200000 / 50000)\n",
    "\n",
    "# Probabilidade de ocorrer exatamente 5 afogamentos em 200.000 habitantes\n",
    "probabilidade_5_afogamentos_200k = poisson.pmf(5, taxa_afogamentos_200k)\n",
    "print(f\"A chance de ocorrer 5 afogamentos em uma população de 200.000 pessoas é: {probabilidade_5_afogamentos_200k:.4f}\")\n",
    "\n",
    "# b) 112.500 habitantes\n",
    "# Ajuste da taxa para uma população de 112.500 habitantes\n",
    "taxa_afogamentos_112_5k = taxa_afogamentos_base * (112500 / 50000)\n",
    "\n",
    "# Probabilidade de ocorrer pelo menos 3 afogamentos em uma população de 112.500 habitantes\n",
    "probabilidade_pelo_menos_3_afogamentos_112_5k = 1 - (poisson.cdf(2, taxa_afogamentos_112_5k))\n",
    "print(f\"A probabilidade de ocorrer pelo menos 3 afogamentos em uma população de 112.500 pessoas é: {probabilidade_pelo_menos_3_afogamentos_112_5k:.4f}\")\n"
   ]
  }
 ],
 "metadata": {
  "language_info": {
   "name": "python"
  }
 },
 "nbformat": 4,
 "nbformat_minor": 2
}
