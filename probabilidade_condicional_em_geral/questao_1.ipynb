{
 "cells": [
  {
   "cell_type": "markdown",
   "metadata": {},
   "source": [
    "Em certo colégio:\n",
    "- 25% dos estudantes foram reprovados em Matemática,\n",
    "- 15% dos estudantes foram reprovados em Química,\n",
    "- 10% dos estudantes foram reprovados em Matemática e Química ao mesmo tempo.\n",
    "\n",
    "Um estudante é selecionado ao acaso.\n",
    "\n",
    "1. Se ele foi reprovado em Química, qual é a probabilidade de ele ter sido reprovado em Matemática?\n",
    "2. Se foi reprovado em Matemática, qual é a probabilidade de ele ter sido reprovado em Química?\n",
    "3. Qual é a probabilidade de ele ter sido reprovado em Matemática ou em Química?"
   ]
  },
  {
   "cell_type": "code",
   "execution_count": null,
   "metadata": {},
   "outputs": [],
   "source": [
    "def probabilidade_condicional_detalhada(pm, pq, pm_e_q):\n",
    "  \"\"\"\n",
    "  Calcula as probabilidades condicionais e da união de eventos, mostrando o resultado em decimal e porcentagem.\n",
    "\n",
    "  Args:\n",
    "    pm: Probabilidade do evento M.\n",
    "    pq: Probabilidade do evento Q.\n",
    "    pm_e_q: Probabilidade da interseção de M e Q.\n",
    "  \"\"\"\n",
    "\n",
    "  # Probabilidade condicional de M dado Q\n",
    "  pm_dado_q = pm_e_q / pq\n",
    "  porcentagem_pm_dado_q = pm_dado_q * 100\n",
    "\n",
    "  # Probabilidade condicional de Q dado M\n",
    "  pq_dado_m = pm_e_q / pm\n",
    "  porcentagem_pq_dado_m = pq_dado_m * 100\n",
    "\n",
    "  # Probabilidade da união de M e Q\n",
    "  pm_ou_q = pm + pq - pm_e_q\n",
    "  porcentagem_pm_ou_q = pm_ou_q * 100\n",
    "\n",
    "  print(f\"P(M|Q): {pm_dado_q:.4f} ({porcentagem_pm_dado_q:.2f}%)\")\n",
    "  print(f\"P(Q|M): {pq_dado_m:.4f} ({porcentagem_pq_dado_m:.2f}%)\")\n",
    "  print(f\"P(M U Q): {pm_ou_q:.4f} ({porcentagem_pm_ou_q:.2f}%)\")\n",
    "\n",
    "# Dados do problema\n",
    "pm = 0.25\n",
    "pq = 0.15\n",
    "pm_e_q = 0.10\n",
    "\n",
    "# Calculando e imprimindo as probabilidades\n",
    "probabilidade_condicional_detalhada(pm, pq, pm_e_q)"
   ]
  }
 ],
 "metadata": {
  "language_info": {
   "name": "python"
  }
 },
 "nbformat": 4,
 "nbformat_minor": 2
}
