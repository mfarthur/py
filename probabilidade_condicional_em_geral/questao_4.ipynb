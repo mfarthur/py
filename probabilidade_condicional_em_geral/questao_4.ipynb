{
 "cells": [
  {
   "cell_type": "markdown",
   "metadata": {},
   "source": [
    "Em um colégio:\n",
    "- 4% dos homens têm mais de 1,60m de altura.\n",
    "- 1% das mulheres têm mais de 1,60m de altura.\n",
    "- 60% dos estudantes são mulheres.\n",
    "\n",
    "Dado que um estudante foi selecionado ao acaso e tem mais de 1,60m de altura, qual é a probabilidade de que o estudante seja uma mulher?"
   ]
  },
  {
   "cell_type": "code",
   "execution_count": null,
   "metadata": {},
   "outputs": [],
   "source": [
    "def probabilidade_mulher_alta(pa_dado_h, pa_dado_m, pm):\n",
    "  \"\"\"\n",
    "  Calcula a probabilidade de um estudante ser mulher, dado que tem mais de 1,60m.\n",
    "\n",
    "  Args:\n",
    "    pa_dado_h: Probabilidade de ter mais de 1,60m dado que é homem.\n",
    "    pa_dado_m: Probabilidade de ter mais de 1,60m dado que é mulher.\n",
    "    pm: Probabilidade de ser mulher.\n",
    "\n",
    "  Returns:\n",
    "    A probabilidade de ser mulher dado que tem mais de 1,60m.\n",
    "  \"\"\"\n",
    "\n",
    "  # Probabilidade de ser homem\n",
    "  ph = 1 - pm\n",
    "\n",
    "  # Probabilidade de ter mais de 1,60m (lei da probabilidade total)\n",
    "  pa = pa_dado_h * ph + pa_dado_m * pm\n",
    "\n",
    "  # Probabilidade de ser mulher dado que tem mais de 1,60m (Teorema de Bayes)\n",
    "  pm_dado_a = (pa_dado_m * pm) / pa\n",
    "\n",
    "  return pm_dado_a\n",
    "\n",
    "# Dados do problema\n",
    "pa_dado_h = 0.04\n",
    "pa_dado_m = 0.01\n",
    "pm = 0.6\n",
    "\n",
    "# Calculando a probabilidade\n",
    "probabilidade = probabilidade_mulher_alta(pa_dado_h, pa_dado_m, pm)\n",
    "\n",
    "# Imprimindo o resultado\n",
    "print(f\"A probabilidade de um estudante ser mulher, dado que tem mais de 1,60m, é: {probabilidade:.4f}\")"
   ]
  }
 ],
 "metadata": {
  "language_info": {
   "name": "python"
  }
 },
 "nbformat": 4,
 "nbformat_minor": 2
}
