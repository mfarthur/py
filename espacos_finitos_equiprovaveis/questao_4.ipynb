{
 "cells": [
  {
   "cell_type": "markdown",
   "metadata": {},
   "source": [
    "**4.** Três lâmpadas são escolhidas aleatoriamente dentre 15 lâmpadas, das quais 5 são defeituosas. Encontre a probabilidade *p* de que:\n",
    "\n",
    "1. **Nenhuma seja defeituosa**\n",
    "2. **Exatamente uma seja defeituosa**\n",
    "3. **Pelo menos uma seja defeituosa**"
   ]
  },
  {
   "cell_type": "code",
   "execution_count": 1,
   "metadata": {},
   "outputs": [
    {
     "ename": "ModuleNotFoundError",
     "evalue": "No module named 'scipy'",
     "output_type": "error",
     "traceback": [
      "\u001b[1;31m---------------------------------------------------------------------------\u001b[0m",
      "\u001b[1;31mModuleNotFoundError\u001b[0m                       Traceback (most recent call last)",
      "Cell \u001b[1;32mIn[1], line 1\u001b[0m\n\u001b[1;32m----> 1\u001b[0m \u001b[38;5;28;01mfrom\u001b[39;00m \u001b[38;5;21;01mscipy\u001b[39;00m\u001b[38;5;21;01m.\u001b[39;00m\u001b[38;5;21;01mspecial\u001b[39;00m \u001b[38;5;28;01mimport\u001b[39;00m comb\n\u001b[0;32m      3\u001b[0m \u001b[38;5;66;03m# Dados do problema\u001b[39;00m\n\u001b[0;32m      4\u001b[0m total_lampadas \u001b[38;5;241m=\u001b[39m \u001b[38;5;241m15\u001b[39m\n",
      "\u001b[1;31mModuleNotFoundError\u001b[0m: No module named 'scipy'"
     ]
    }
   ],
   "source": [
    "from scipy.special import comb\n",
    "\n",
    "# Dados do problema\n",
    "total_lampadas = 15\n",
    "lampadas_defeituosas = 5\n",
    "lampadas_boas = total_lampadas - lampadas_defeituosas\n",
    "num_lampadas_escolhidas = 3\n",
    "\n",
    "# Função para calcular a probabilidade e retornar em porcentagem\n",
    "def probabilidade_porcentagem(eventos_favoraveis, espaco_amostral):\n",
    "    probabilidade = eventos_favoraveis / espaco_amostral\n",
    "    porcentagem = probabilidade * 100\n",
    "    return probabilidade, porcentagem\n",
    "\n",
    "# Calculando o espaço amostral total (combinações de 15 escolhe 3)\n",
    "espaco_amostral = comb(total_lampadas, num_lampadas_escolhidas)\n",
    "\n",
    "# a) Nenhuma seja defeituosa\n",
    "eventos_favoraveis_a = comb(lampadas_boas, num_lampadas_escolhidas)\n",
    "p_a, porcentagem_a = probabilidade_porcentagem(eventos_favoraveis_a, espaco_amostral)\n",
    "\n",
    "# b) Exatamente uma seja defeituosa\n",
    "eventos_favoraveis_b = comb(lampadas_defeituosas, 1) * comb(lampadas_boas, 2)\n",
    "p_b, porcentagem_b = probabilidade_porcentagem(eventos_favoraveis_b, espaco_amostral)\n",
    "\n",
    "# c) Pelo menos uma seja defeituosa\n",
    "# Podemos calcular como o complemento de \"nenhuma seja defeituosa\"\n",
    "p_c, porcentagem_c = probabilidade_porcentagem(espaco_amostral - eventos_favoraveis_a, espaco_amostral)\n",
    "\n",
    "# Imprimindo os resultados formatados\n",
    "print(\"\\nProbabilidades para a seleção de lâmpadas:\")\n",
    "print(\"-\" * 40)\n",
    "print(f\"a) Probabilidade de nenhuma ser defeituosa: {p_a:.4f} ({porcentagem_a:.2f}%)\")\n",
    "print(f\"b) Probabilidade de exatamente uma ser defeituosa: {p_b:.4f} ({porcentagem_b:.2f}%)\")\n",
    "print(f\"c) Probabilidade de pelo menos uma ser defeituosa: {p_c:.4f} ({porcentagem_c:.2f}%)\")\n"
   ]
  }
 ],
 "metadata": {
  "kernelspec": {
   "display_name": "Python 3",
   "language": "python",
   "name": "python3"
  },
  "language_info": {
   "codemirror_mode": {
    "name": "ipython",
    "version": 3
   },
   "file_extension": ".py",
   "mimetype": "text/x-python",
   "name": "python",
   "nbconvert_exporter": "python",
   "pygments_lexer": "ipython3",
   "version": "3.12.3"
  }
 },
 "nbformat": 4,
 "nbformat_minor": 2
}
